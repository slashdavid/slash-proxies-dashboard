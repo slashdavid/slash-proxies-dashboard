{
 "cells": [
  {
   "cell_type": "markdown",
   "metadata": {},
   "source": [
    "# Data Formatting and Preprocessing\n",
    "\n",
    "### Methadology:\n",
    "1. Basic formatting\n",
    "2. Calculate active users by date\n",
    "3. Calculate total bandwidth usage by date\n",
    "4. Remove unnecessary JSON fields and bugged strings from subuser names\n",
    "5. Parsing JSON and CSV files to data match between subuser and customer information using the fuzzywuzzy library"
   ]
  },
  {
   "cell_type": "markdown",
   "metadata": {},
   "source": [
    "### 1. Basic formatting"
   ]
  },
  {
   "cell_type": "markdown",
   "metadata": {},
   "source": [
    "Selects all columns from the initial 'subuser_bw_usage.csv' file and orders everything based on the Subuser, Date, and Bandwidth Usage columns."
   ]
  },
  {
   "cell_type": "code",
   "execution_count": null,
   "metadata": {
    "vscode": {
     "languageId": "sql"
    }
   },
   "outputs": [],
   "source": [
    "SELECT * FROM subuser_bw_usage.csv\n",
    "ORDER BY Subuser, Date, `Bandwidth Usage`;\n"
   ]
  },
  {
   "cell_type": "markdown",
   "metadata": {},
   "source": [
    "Converts 'Bandwidth Usage' column from mebibytes to gigabytes"
   ]
  },
  {
   "cell_type": "code",
   "execution_count": null,
   "metadata": {},
   "outputs": [],
   "source": [
    "import pandas as pd\n",
    "\n",
    "# Read subuser_bw_usage.csv\n",
    "subuser_bw = pd.read_csv('subuser_bw_usage.csv')\n",
    "\n",
    "# Create a copy of the CSV file with the converted 'Bandwidth Usage' column\n",
    "new_subuser_bw = subuser_bw.copy()\n",
    "new_subuser_bw['Bandwidth Usage'] = subuser_bw['Bandwidth Usage'] * 0.0009765625  # Convert from MiB to GiB\n",
    "\n",
    "# Save the converted data to a new CSV file\n",
    "new_subuser_bw.to_csv('subuser_bw_usage_sorted.csv', index=False)"
   ]
  },
  {
   "cell_type": "markdown",
   "metadata": {},
   "source": [
    "### 2. Calculate active users by date"
   ]
  },
  {
   "cell_type": "markdown",
   "metadata": {},
   "source": [
    "Converts the 'Date' column to datetime format, counts unique emails by date, and saves the results to a new CSV file."
   ]
  },
  {
   "cell_type": "code",
   "execution_count": null,
   "metadata": {},
   "outputs": [],
   "source": [
    "import pandas as pd\n",
    "\n",
    "# Read the subuser_bw_usage_sorted.csv file\n",
    "df = pd.read_csv('subuser_bw_usage_sorted.csv')\n",
    "\n",
    "# Convert the 'Date' column to datetime format\n",
    "df['Date'] = pd.to_datetime(df['Date'])\n",
    "\n",
    "# Group the data by 'Date' and count the unique emails\n",
    "unique_emails_by_date = df.groupby('Date')['Subuser'].nunique()\n",
    "\n",
    "# Print the number of unique emails for each date\n",
    "for date, count in unique_emails_by_date.items():\n",
    "    print(f\"Date: {date.date()}, Active Users: {count}\")\n",
    "\n",
    "# Save the result to a new CSV file\n",
    "unique_emails_by_date.to_csv('active_users_by_date.csv', header=True)\n"
   ]
  },
  {
   "cell_type": "markdown",
   "metadata": {},
   "source": [
    "### 3. Calculate total bandwidth usage by date "
   ]
  },
  {
   "cell_type": "markdown",
   "metadata": {},
   "source": [
    "Groups data by the 'Date' column using the groupby() method and calculates the total bandwidth usage into a new CSV file with the to_csv() function."
   ]
  },
  {
   "cell_type": "code",
   "execution_count": null,
   "metadata": {},
   "outputs": [],
   "source": [
    "import pandas as pd\n",
    "\n",
    "# Read the subuser_bw_usage_sorted.csv file\n",
    "df = pd.read_csv('subuser_bw_usage_sorted.csv')\n",
    "\n",
    "# Convert the 'Date' column to datetime format\n",
    "df['Date'] = pd.to_datetime(df['Date'])\n",
    "\n",
    "# Group the data by 'Date' and calculate the total bandwidth usage\n",
    "usage_by_date = df.groupby('Date')['Bandwidth Usage'].sum()\n",
    "\n",
    "# Print the total bandwidth usage for each date\n",
    "for date, usage in usage_by_date.items():\n",
    "    print(f\"Date: {date.date()}, Total Bandwidth Usage: {usage}\")\n",
    "\n",
    "# Save the result to a new CSV file\n",
    "usage_by_date.to_csv('total_bandwidth_usage_by_date.csv', header=True)"
   ]
  },
  {
   "cell_type": "markdown",
   "metadata": {},
   "source": [
    "### 4. Remove unnecessary JSON fields and bugged strings from subuser names"
   ]
  },
  {
   "cell_type": "markdown",
   "metadata": {},
   "source": [
    "Creates a list with needed fields and removes \"klgg2\" from oxyUsername and briefOxyUsername for each customer."
   ]
  },
  {
   "cell_type": "code",
   "execution_count": null,
   "metadata": {},
   "outputs": [],
   "source": [
    "import json\n",
    "\n",
    "input_file = 'filtered_customers.json'\n",
    "output_file = 'cleaned_customers.json'\n",
    "\n",
    "# List of fields to keep\n",
    "fields_to_keep = ['email', 'oxyId', 'oxyUsername', 'briefOxyId', 'briefOxyUsername']\n",
    "\n",
    "# Read the input file\n",
    "with open(input_file, 'r', encoding='utf-8') as f:\n",
    "    data = json.load(f)\n",
    "\n",
    "# Remove \"klgg2\" from oxyUsername and briefOxyUsername for each customer\n",
    "for customer in data:\n",
    "    for field in ['oxyUsername', 'briefOxyUsername']:\n",
    "        if field in customer and customer[field] is not None:\n",
    "            customer[field] = customer[field].replace('klgg2', '')\n",
    "\n",
    "# Extract the required fields for each customer\n",
    "filtered_data = [{field: customer.get(field) for field in fields_to_keep} for customer in data]\n",
    "\n",
    "# Write the filtered data to the output file\n",
    "with open(output_file, 'w', encoding='utf-8') as f:\n",
    "    json.dump(filtered_data, f, indent=4)\n",
    "\n",
    "print(f\"Filtered customer data saved to {output_file}.\")"
   ]
  },
  {
   "cell_type": "markdown",
   "metadata": {},
   "source": [
    "### 5. Parsing JSON and CSV files to data match between subuser and customer information using the fuzzywuzzy library"
   ]
  },
  {
   "cell_type": "markdown",
   "metadata": {},
   "source": [
    "Utilizes the fuzzy stirng matching algorithm from the fuzzywuzzy library to match subusers extracted from subuser_bw_usage.csv with their corresponding customer data stored in cleaned_customers.json and generates the results into a new CSV file."
   ]
  },
  {
   "cell_type": "code",
   "execution_count": null,
   "metadata": {},
   "outputs": [],
   "source": [
    "import csv\n",
    "import json\n",
    "from fuzzywuzzy import fuzz\n",
    "\n",
    "def find_matching_customer(subuser, customers):\n",
    "    for customer in customers:\n",
    "        if not isinstance(customer, dict):\n",
    "            continue\n",
    "\n",
    "        customer_email = customer.get('email', \"\")\n",
    "        customer_oxy_username = customer.get('oxyUsername', \"\")\n",
    "        customer_brief_oxy_username = customer.get('briefOxyUsername', \"\")\n",
    "\n",
    "        if (fuzz.ratio(subuser, customer_oxy_username) >= 80) or (fuzz.ratio(subuser, customer_brief_oxy_username) >= 80) or (fuzz.ratio(subuser, customer_email.split(\"@\")[0]) >= 80):\n",
    "            if isinstance(customer.get('oxyId'), dict):\n",
    "                subuser_id = customer['oxyId'].get('$numberInt', \"\") if customer_oxy_username == subuser else customer.get('briefOxyId', \"\")\n",
    "            else:\n",
    "                subuser_id = customer.get('oxyId', \"\") if customer_oxy_username == subuser else customer.get('briefOxyId', \"\")\n",
    "\n",
    "            return {\n",
    "                'email': customer_email,\n",
    "                'subuser_type': 'Pro' if customer_oxy_username == subuser else 'Basic',\n",
    "                'subuser_id': subuser_id or \"\"\n",
    "            }\n",
    "    return None\n",
    "\n",
    "def main():\n",
    "    subuser_file = 'subuser_bw_usage_sorted.csv'\n",
    "    customer_file = 'cleaned_customers.json'\n",
    "    output_file = 'final_subuser_bw_usage.csv'\n",
    "\n",
    "    # Load subuser data\n",
    "    subusers = []\n",
    "    with open(subuser_file, 'r') as file:\n",
    "        reader = csv.DictReader(file)\n",
    "        for row in reader:\n",
    "            subusers.append(row)\n",
    "\n",
    "    # Load customer data\n",
    "    with open(customer_file, 'r') as file:\n",
    "        customers = json.load(file)\n",
    "\n",
    "    # Match subusers with customers\n",
    "    matched_data = []\n",
    "    match_count = 0\n",
    "    for subuser in subusers:\n",
    "        subuser_name = subuser['Subuser']\n",
    "        matching_customer = find_matching_customer(subuser_name, customers)\n",
    "        if matching_customer is not None:\n",
    "            matched_data.append({\n",
    "                'Email': matching_customer['email'],\n",
    "                'Subuser Type': matching_customer['subuser_type'],\n",
    "                'Subuser ID': matching_customer['subuser_id'],\n",
    "                'Subuser': subuser_name,\n",
    "                'Date': subuser['Date'],\n",
    "                'Bandwidth Usage': subuser['Bandwidth Usage']\n",
    "            })\n",
    "            match_count += 1\n",
    "            print(f\"Match found for Subuser: {subuser_name}\")\n",
    "        else:\n",
    "            print(f\"No match found for Subuser: {subuser_name}\")\n",
    "\n",
    "    # Write the matched data to the output file\n",
    "    fieldnames = ['Email', 'Subuser Type', 'Subuser ID', 'Subuser', 'Date', 'Bandwidth Usage']\n",
    "    with open(output_file, 'w', newline='') as file:\n",
    "        writer = csv.DictWriter(file, fieldnames=fieldnames)\n",
    "        writer.writeheader()\n",
    "        writer.writerows(matched_data)\n",
    "\n",
    "    print(\"Matching completed. Output file generated.\")\n",
    "    print(f\"Total matches found: {match_count} out of {len(subusers)} subusers.\")\n",
    "\n",
    "if __name__ == '__main__':\n",
    "    main()"
   ]
  }
 ],
 "metadata": {
  "kernelspec": {
   "display_name": "Python 3.11.4 64-bit (microsoft store)",
   "language": "python",
   "name": "python3"
  },
  "language_info": {
   "codemirror_mode": {
    "name": "ipython",
    "version": 3
   },
   "file_extension": ".py",
   "mimetype": "text/x-python",
   "name": "python",
   "nbconvert_exporter": "python",
   "pygments_lexer": "ipython3",
   "version": "3.11.4"
  },
  "orig_nbformat": 4,
  "vscode": {
   "interpreter": {
    "hash": "9e370e5dac6f838846879df835edaa3fb1e89604a86a0a8246b16025735a3f51"
   }
  }
 },
 "nbformat": 4,
 "nbformat_minor": 2
}
